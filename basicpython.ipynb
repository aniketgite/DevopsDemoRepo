{
  "nbformat": 4,
  "nbformat_minor": 0,
  "metadata": {
    "colab": {
      "provenance": [],
      "authorship_tag": "ABX9TyOSWDhKKjQN0t+G2lASCdac",
      "include_colab_link": true
    },
    "kernelspec": {
      "name": "python3",
      "display_name": "Python 3"
    },
    "language_info": {
      "name": "python"
    }
  },
  "cells": [
    {
      "cell_type": "markdown",
      "metadata": {
        "id": "view-in-github",
        "colab_type": "text"
      },
      "source": [
        "<a href=\"https://colab.research.google.com/github/aniketgite/DevopsDemoRepo/blob/main/basicpython.ipynb\" target=\"_parent\"><img src=\"https://colab.research.google.com/assets/colab-badge.svg\" alt=\"Open In Colab\"/></a>"
      ]
    },
    {
      "cell_type": "code",
      "execution_count": null,
      "metadata": {
        "colab": {
          "base_uri": "https://localhost:8080/"
        },
        "id": "fVW1vhlJDJ_h",
        "outputId": "924db3b8-5f46-402e-8573-56bb8315738f"
      },
      "outputs": [
        {
          "output_type": "stream",
          "name": "stdout",
          "text": [
            "0.4\n"
          ]
        }
      ],
      "source": [
        "x=2\n",
        "x/=5\n",
        "print(x)"
      ]
    },
    {
      "cell_type": "code",
      "source": [
        "print(x)"
      ],
      "metadata": {
        "colab": {
          "base_uri": "https://localhost:8080/"
        },
        "id": "0pIf5uSNGdmB",
        "outputId": "de4e7b7a-32b7-4ee3-c8eb-d34d527a83e5"
      },
      "execution_count": null,
      "outputs": [
        {
          "output_type": "stream",
          "name": "stdout",
          "text": [
            "0.4\n"
          ]
        }
      ]
    },
    {
      "cell_type": "code",
      "source": [
        "#comparison operator\n",
        "a=10\n",
        "b=20\n",
        "print(a==b)"
      ],
      "metadata": {
        "colab": {
          "base_uri": "https://localhost:8080/"
        },
        "id": "VhJEXKV4LUcL",
        "outputId": "4dc50375-1816-408a-aae1-d112d4bc058b"
      },
      "execution_count": null,
      "outputs": [
        {
          "output_type": "stream",
          "name": "stdout",
          "text": [
            "False\n"
          ]
        }
      ]
    },
    {
      "cell_type": "code",
      "source": [
        "a=10\n",
        "b=20\n",
        "print(a!=b)"
      ],
      "metadata": {
        "colab": {
          "base_uri": "https://localhost:8080/"
        },
        "id": "TuB9B-x6Lf4G",
        "outputId": "97710b05-5e3c-4b5b-8dce-5909ea2fb2c6"
      },
      "execution_count": null,
      "outputs": [
        {
          "output_type": "stream",
          "name": "stdout",
          "text": [
            "True\n"
          ]
        }
      ]
    },
    {
      "cell_type": "code",
      "source": [
        "car=55\n",
        "print(car>100 and car<50)"
      ],
      "metadata": {
        "colab": {
          "base_uri": "https://localhost:8080/"
        },
        "id": "8lFeFJkwNJVj",
        "outputId": "fb9b52ea-f3b6-488d-d735-818a1cf00a22"
      },
      "execution_count": null,
      "outputs": [
        {
          "output_type": "stream",
          "name": "stdout",
          "text": [
            "False\n"
          ]
        }
      ]
    },
    {
      "cell_type": "code",
      "source": [
        "weather=\"sunny\"\n",
        "print(weather==\"sunny\" and weather==\"cloudy\")"
      ],
      "metadata": {
        "colab": {
          "base_uri": "https://localhost:8080/"
        },
        "id": "UnWgijZhZO5W",
        "outputId": "286f5100-1257-4b14-cd72-f60bd9eb1f9d"
      },
      "execution_count": null,
      "outputs": [
        {
          "output_type": "stream",
          "name": "stdout",
          "text": [
            "False\n"
          ]
        }
      ]
    },
    {
      "cell_type": "code",
      "source": [
        "#####Lists\n",
        "brand=[\"zara\",\"peter england\",\"tommy\",\"puma\",\"reebok\"]\n",
        "print(type(brand))\n",
        "print(len(brand))"
      ],
      "metadata": {
        "colab": {
          "base_uri": "https://localhost:8080/"
        },
        "id": "da7huMOtdDqh",
        "outputId": "5f432c3d-c43a-4ab0-f769-f7f0ec8c8221"
      },
      "execution_count": null,
      "outputs": [
        {
          "output_type": "stream",
          "name": "stdout",
          "text": [
            "<class 'list'>\n",
            "5\n"
          ]
        }
      ]
    },
    {
      "cell_type": "code",
      "source": [
        "print(brand[0])\n",
        "print(brand[1])"
      ],
      "metadata": {
        "colab": {
          "base_uri": "https://localhost:8080/"
        },
        "id": "JcikmBi1dzMt",
        "outputId": "e3e4d159-5643-4b03-f16c-9a0650dfc0fe"
      },
      "execution_count": null,
      "outputs": [
        {
          "output_type": "stream",
          "name": "stdout",
          "text": [
            "zara\n",
            "peter england\n"
          ]
        }
      ]
    },
    {
      "cell_type": "code",
      "source": [
        "brand.append(\"ucb\")\n",
        "print(brand)"
      ],
      "metadata": {
        "colab": {
          "base_uri": "https://localhost:8080/"
        },
        "id": "L4ArD6hmeXSU",
        "outputId": "7a20c4b5-8247-4e86-ee72-7823a8822cd3"
      },
      "execution_count": null,
      "outputs": [
        {
          "output_type": "stream",
          "name": "stdout",
          "text": [
            "['zara', 'peter england', 'tommy', 'puma', 'reebok', 'ucb']\n"
          ]
        }
      ]
    },
    {
      "cell_type": "code",
      "source": [
        "brand[0]=\"Nike\"\n",
        "print(brand)"
      ],
      "metadata": {
        "colab": {
          "base_uri": "https://localhost:8080/"
        },
        "id": "_nXdiqtleyO2",
        "outputId": "c35a5709-947a-42f3-a89b-8599c1085020"
      },
      "execution_count": null,
      "outputs": [
        {
          "output_type": "stream",
          "name": "stdout",
          "text": [
            "['Nike', 'peter england', 'tommy', 'puma', 'reebok', 'ucb']\n"
          ]
        }
      ]
    },
    {
      "cell_type": "code",
      "source": [
        "brand.pop()  #remove last\n",
        "print(brand)\n",
        "brand.pop(0)  #remove first\n",
        "print(brand)"
      ],
      "metadata": {
        "colab": {
          "base_uri": "https://localhost:8080/"
        },
        "id": "O9tlvyFygRb6",
        "outputId": "b869ca6f-50df-47da-af3f-e2c96e8ea6b0"
      },
      "execution_count": null,
      "outputs": [
        {
          "output_type": "stream",
          "name": "stdout",
          "text": [
            "['Nike', 'peter england', 'tommy', 'puma']\n",
            "['peter england', 'tommy', 'puma']\n"
          ]
        }
      ]
    },
    {
      "cell_type": "code",
      "source": [
        "brand=['peter england', 'tommy', 'puma']\n",
        "brand.remove(\"puma\")\n",
        "print(brand)\n",
        "#brand.clear(1)\n",
        "print(brand)\n"
      ],
      "metadata": {
        "colab": {
          "base_uri": "https://localhost:8080/"
        },
        "id": "g4FfO31Yfx2h",
        "outputId": "e5ccb92d-458f-474b-dae4-b6abda653db0"
      },
      "execution_count": null,
      "outputs": [
        {
          "output_type": "stream",
          "name": "stdout",
          "text": [
            "['peter england', 'tommy']\n",
            "['peter england', 'tommy']\n"
          ]
        }
      ]
    },
    {
      "cell_type": "code",
      "source": [
        "brand.clear()\n",
        "print(brand)\n"
      ],
      "metadata": {
        "colab": {
          "base_uri": "https://localhost:8080/"
        },
        "id": "fHx_ZtyLhW5H",
        "outputId": "399abdf9-6d94-4248-9057-dd72037d6f58"
      },
      "execution_count": null,
      "outputs": [
        {
          "output_type": "stream",
          "name": "stdout",
          "text": [
            "[]\n"
          ]
        }
      ]
    },
    {
      "cell_type": "code",
      "source": [
        "brand=[\"zara\",\"peter england\",\"tommy\",\"puma\",\"reebok\"]\n",
        "brand.sort(reverse= True)\n",
        "print(brand)"
      ],
      "metadata": {
        "colab": {
          "base_uri": "https://localhost:8080/"
        },
        "id": "6ZBz0_UziG48",
        "outputId": "0e0f4751-e864-453b-b76a-b7f20898b23a"
      },
      "execution_count": null,
      "outputs": [
        {
          "output_type": "stream",
          "name": "stdout",
          "text": [
            "['zara', 'tommy', 'reebok', 'puma', 'peter england']\n"
          ]
        }
      ]
    },
    {
      "cell_type": "code",
      "source": [
        "brand.insert(1,\"levis\")\n",
        "print(brand)"
      ],
      "metadata": {
        "colab": {
          "base_uri": "https://localhost:8080/"
        },
        "id": "Jf5s1AgOieGp",
        "outputId": "036607df-b878-4cb3-c65c-20444f5fcb03"
      },
      "execution_count": null,
      "outputs": [
        {
          "output_type": "stream",
          "name": "stdout",
          "text": [
            "['zara', 'levis', 'tommy', 'reebok', 'puma', 'peter england']\n"
          ]
        }
      ]
    },
    {
      "cell_type": "code",
      "source": [
        "#tuple\n",
        "#it is immutabel-cannot change\n",
        "car=(\"suzuki\",\"honda\",\"tata\",\"mahindra\")\n",
        "print(type(car))"
      ],
      "metadata": {
        "colab": {
          "base_uri": "https://localhost:8080/"
        },
        "id": "TiaEfGB0J0_Y",
        "outputId": "a0a507cf-75e2-4737-97c6-01996adc7ac6"
      },
      "execution_count": null,
      "outputs": [
        {
          "output_type": "stream",
          "name": "stdout",
          "text": [
            "<class 'tuple'>\n"
          ]
        }
      ]
    },
    {
      "cell_type": "code",
      "source": [
        "car.append(\"bajaj\")\n",
        "print(car)"
      ],
      "metadata": {
        "colab": {
          "base_uri": "https://localhost:8080/",
          "height": 159
        },
        "id": "od4ngO_DKSDS",
        "outputId": "f5898810-af31-4b0a-82be-3d340a7ccb2f"
      },
      "execution_count": null,
      "outputs": [
        {
          "output_type": "error",
          "ename": "AttributeError",
          "evalue": "'tuple' object has no attribute 'append'",
          "traceback": [
            "\u001b[0;31m---------------------------------------------------------------------------\u001b[0m",
            "\u001b[0;31mAttributeError\u001b[0m                            Traceback (most recent call last)",
            "\u001b[0;32m<ipython-input-2-1a400dabceba>\u001b[0m in \u001b[0;36m<cell line: 1>\u001b[0;34m()\u001b[0m\n\u001b[0;32m----> 1\u001b[0;31m \u001b[0mcar\u001b[0m\u001b[0;34m.\u001b[0m\u001b[0mappend\u001b[0m\u001b[0;34m(\u001b[0m\u001b[0;34m\"bajaj\"\u001b[0m\u001b[0;34m)\u001b[0m\u001b[0;34m\u001b[0m\u001b[0;34m\u001b[0m\u001b[0m\n\u001b[0m\u001b[1;32m      2\u001b[0m \u001b[0mprint\u001b[0m\u001b[0;34m(\u001b[0m\u001b[0mcar\u001b[0m\u001b[0;34m)\u001b[0m\u001b[0;34m\u001b[0m\u001b[0;34m\u001b[0m\u001b[0m\n",
            "\u001b[0;31mAttributeError\u001b[0m: 'tuple' object has no attribute 'append'"
          ]
        }
      ]
    },
    {
      "cell_type": "markdown",
      "source": [],
      "metadata": {
        "id": "80o0yYGdKIKk"
      }
    },
    {
      "cell_type": "code",
      "source": [
        "#want to change tuple then need to change data type to list\n",
        "car_1=list(car)\n",
        "print(type(car_1))\n",
        "print(car_1)"
      ],
      "metadata": {
        "colab": {
          "base_uri": "https://localhost:8080/"
        },
        "id": "WWXprCOiKmnf",
        "outputId": "709d12a0-6cef-48d1-daf8-9a02bfb11330"
      },
      "execution_count": null,
      "outputs": [
        {
          "output_type": "stream",
          "name": "stdout",
          "text": [
            "<class 'list'>\n",
            "['suzuki', 'honda', 'tata', 'mahindra']\n"
          ]
        }
      ]
    },
    {
      "cell_type": "code",
      "source": [
        "car_1.insert(1,\"tesla\")\n",
        "print(car_1)\n"
      ],
      "metadata": {
        "colab": {
          "base_uri": "https://localhost:8080/"
        },
        "id": "h4X_0nj6LXVA",
        "outputId": "c10533b2-5c97-461d-8329-c0cfa303b330"
      },
      "execution_count": null,
      "outputs": [
        {
          "output_type": "stream",
          "name": "stdout",
          "text": [
            "['suzuki', 'tesla', 'honda', 'tata', 'mahindra']\n"
          ]
        }
      ]
    },
    {
      "cell_type": "code",
      "source": [
        "car=tuple(car_1)\n",
        "print(type(car))\n",
        "print(car)"
      ],
      "metadata": {
        "colab": {
          "base_uri": "https://localhost:8080/"
        },
        "id": "Jk0583WfLiJc",
        "outputId": "7cb66c4e-3a77-4420-c054-8e0080a4829c"
      },
      "execution_count": null,
      "outputs": [
        {
          "output_type": "stream",
          "name": "stdout",
          "text": [
            "<class 'tuple'>\n",
            "('suzuki', 'tesla', 'honda', 'tata', 'mahindra')\n"
          ]
        }
      ]
    },
    {
      "cell_type": "code",
      "source": [
        "a=(\"abc\")\n",
        "print(type(a))"
      ],
      "metadata": {
        "colab": {
          "base_uri": "https://localhost:8080/"
        },
        "id": "GNvPx0efSD0y",
        "outputId": "5f2bf2f9-323b-4dd1-b1db-8dcc2b27d956"
      },
      "execution_count": null,
      "outputs": [
        {
          "output_type": "stream",
          "name": "stdout",
          "text": [
            "<class 'str'>\n"
          ]
        }
      ]
    },
    {
      "cell_type": "code",
      "source": [
        "####sets\n",
        "#unordered\n",
        "#unchangable\n",
        "#duplictes not allowed\n",
        "\n",
        "emp_id={1234,1232,1236,2314}\n",
        "print(type(emp_id))\n",
        "print(emp_id)"
      ],
      "metadata": {
        "colab": {
          "base_uri": "https://localhost:8080/"
        },
        "id": "9ukuFCZxTwx8",
        "outputId": "6e548507-b6bf-45a7-c49d-76c126c6048f"
      },
      "execution_count": null,
      "outputs": [
        {
          "output_type": "stream",
          "name": "stdout",
          "text": [
            "<class 'set'>\n",
            "{1232, 1234, 2314, 1236}\n"
          ]
        }
      ]
    },
    {
      "cell_type": "code",
      "source": [
        "###dictonaries\n",
        "#key value pair\n",
        "#Key:value\n",
        "#ordered, changable but duplicates not allowed\n",
        "\n",
        "school={\"name\":\"spgh\",\"strength\":2000,\"model\":\"english\",\"est\":1990}\n",
        "print(len(school))\n",
        "print(type(school))"
      ],
      "metadata": {
        "id": "USHbIuLoUN8K",
        "colab": {
          "base_uri": "https://localhost:8080/"
        },
        "outputId": "4b06abb8-c950-405f-a259-04e3f05a28bf"
      },
      "execution_count": null,
      "outputs": [
        {
          "output_type": "stream",
          "name": "stdout",
          "text": [
            "4\n",
            "<class 'dict'>\n"
          ]
        }
      ]
    },
    {
      "cell_type": "code",
      "source": [
        "#can take the values by assigning new variable\n",
        "x=school[\"model\"]\n",
        "print(x)"
      ],
      "metadata": {
        "colab": {
          "base_uri": "https://localhost:8080/"
        },
        "id": "Nq-UCkP6kGpH",
        "outputId": "2ecfc32b-c006-4d94-fd93-e7ad677751e0"
      },
      "execution_count": null,
      "outputs": [
        {
          "output_type": "stream",
          "name": "stdout",
          "text": [
            "english\n"
          ]
        }
      ]
    },
    {
      "cell_type": "code",
      "source": [
        "x=[\"kishore,kumar\"]\n",
        "school={\"name\":\"spgh\",\"strength\":2000,\"model\":x,\"est\":1990}\n",
        "print(school)\n",
        "print(type(school))"
      ],
      "metadata": {
        "colab": {
          "base_uri": "https://localhost:8080/"
        },
        "id": "dtnmnrLpkkvT",
        "outputId": "3a0ab509-e876-43f5-ca60-a032821a544a"
      },
      "execution_count": null,
      "outputs": [
        {
          "output_type": "stream",
          "name": "stdout",
          "text": [
            "{'name': 'spgh', 'strength': 2000, 'model': ['kishore,kumar'], 'est': 1990}\n",
            "<class 'dict'>\n"
          ]
        }
      ]
    },
    {
      "cell_type": "code",
      "source": [
        "#not allowed duplicates in dictonaries\n",
        "school={\"name\":\"spgh\",\"strength\":2000,\"model\":\"english\",\"est\":1990,\"model\":\"hindi\"}\n",
        "print(school)"
      ],
      "metadata": {
        "colab": {
          "base_uri": "https://localhost:8080/"
        },
        "id": "peP_Iwx3lJqU",
        "outputId": "13e060c9-830f-4bda-f654-b884f5a277ca"
      },
      "execution_count": null,
      "outputs": [
        {
          "output_type": "stream",
          "name": "stdout",
          "text": [
            "{'name': 'spgh', 'strength': 2000, 'model': 'hindi', 'est': 1990}\n"
          ]
        }
      ]
    },
    {
      "cell_type": "code",
      "source": [],
      "metadata": {
        "id": "ZvYa3FSl172m"
      },
      "execution_count": null,
      "outputs": []
    },
    {
      "cell_type": "code",
      "source": [
        "#Loop\n",
        "#python support for and while loop. does not support do while loop.\n",
        "#for= declaration, condition, increment/decrement\n",
        "for i in range(10):\n",
        "     print(i)"
      ],
      "metadata": {
        "colab": {
          "base_uri": "https://localhost:8080/"
        },
        "id": "CqNaQIxN18dx",
        "outputId": "3817e8c7-2c54-4dd3-809d-2ee7372a2ce8"
      },
      "execution_count": null,
      "outputs": [
        {
          "output_type": "stream",
          "name": "stdout",
          "text": [
            "0\n",
            "1\n",
            "2\n",
            "3\n",
            "4\n",
            "5\n",
            "6\n",
            "7\n",
            "8\n",
            "9\n"
          ]
        }
      ]
    },
    {
      "cell_type": "code",
      "source": [
        "for i in range(1,10+1):\n",
        "  print(i)"
      ],
      "metadata": {
        "colab": {
          "base_uri": "https://localhost:8080/"
        },
        "id": "84uUI3e-4Xj-",
        "outputId": "120d961f-897f-4739-c367-78635e71b303"
      },
      "execution_count": null,
      "outputs": [
        {
          "output_type": "stream",
          "name": "stdout",
          "text": [
            "1\n",
            "2\n",
            "3\n",
            "4\n",
            "5\n",
            "6\n",
            "7\n",
            "8\n",
            "9\n",
            "10\n"
          ]
        }
      ]
    },
    {
      "cell_type": "code",
      "source": [
        "for i in range(5):\n",
        "  print(\"intellipaat\")"
      ],
      "metadata": {
        "colab": {
          "base_uri": "https://localhost:8080/"
        },
        "id": "2__WwJQL4cfG",
        "outputId": "909b6853-a66c-452f-e8d9-f07288d6b61c"
      },
      "execution_count": null,
      "outputs": [
        {
          "output_type": "stream",
          "name": "stdout",
          "text": [
            "intellipaat\n",
            "intellipaat\n",
            "intellipaat\n",
            "intellipaat\n",
            "intellipaat\n"
          ]
        }
      ]
    },
    {
      "cell_type": "code",
      "source": [
        "#while= repeat statement while given condition become true\n",
        "counter=0;\n",
        "while counter<10:  #0<10\n",
        "  print(\"intellipaat\")\n",
        "  counter=counter+3 #0+3 #3+3 #6+3 #9+3"
      ],
      "metadata": {
        "colab": {
          "base_uri": "https://localhost:8080/"
        },
        "id": "vDa92vEx8BUS",
        "outputId": "1affbfdf-acfe-41fc-9bf8-eca79aeb218c"
      },
      "execution_count": null,
      "outputs": [
        {
          "output_type": "stream",
          "name": "stdout",
          "text": [
            "intellipaat\n",
            "intellipaat\n",
            "intellipaat\n",
            "intellipaat\n"
          ]
        }
      ]
    },
    {
      "cell_type": "code",
      "source": [
        "for i in range(5):\n",
        "  print(i)\n",
        "  if i==2:\n",
        "    print(\"I am breaking the value more than 2\")\n",
        "    break"
      ],
      "metadata": {
        "colab": {
          "base_uri": "https://localhost:8080/"
        },
        "id": "a8hxf_XsKZme",
        "outputId": "1f02bd3f-b426-461c-da25-1f54bfb539d2"
      },
      "execution_count": 2,
      "outputs": [
        {
          "output_type": "stream",
          "name": "stdout",
          "text": [
            "0\n",
            "1\n",
            "2\n",
            "I am breaking the value more than 2\n"
          ]
        }
      ]
    },
    {
      "cell_type": "code",
      "source": [
        "for i in range(5):\n",
        "  print(i)\n",
        "  if i==2:\n",
        "    print(\"I am breaking the value more than 2\")\n",
        "    continue"
      ],
      "metadata": {
        "colab": {
          "base_uri": "https://localhost:8080/"
        },
        "id": "8zcsRwC4Mvu5",
        "outputId": "3f4da51d-b2ba-4630-e8cf-609e3618c268"
      },
      "execution_count": 3,
      "outputs": [
        {
          "output_type": "stream",
          "name": "stdout",
          "text": [
            "0\n",
            "1\n",
            "2\n",
            "I am breaking the value more than 2\n",
            "3\n",
            "4\n"
          ]
        }
      ]
    },
    {
      "cell_type": "code",
      "source": [
        "# pass statement- syntactically condition needs but no need to give statement\n",
        "for i in range(5):\n",
        "  print(i)\n",
        "  if i==2:\n",
        "    pass #skip\n",
        "\n",
        ""
      ],
      "metadata": {
        "colab": {
          "base_uri": "https://localhost:8080/"
        },
        "id": "H6vKHjuxNuMN",
        "outputId": "074af882-4295-4ca5-a800-205e12ae3d7e"
      },
      "execution_count": 5,
      "outputs": [
        {
          "output_type": "stream",
          "name": "stdout",
          "text": [
            "0\n",
            "1\n",
            "2\n",
            "3\n",
            "4\n"
          ]
        }
      ]
    }
  ]
}