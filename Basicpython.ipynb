High level Language
- easy to understand for humans 
- easy to learn
- easy to deploy
