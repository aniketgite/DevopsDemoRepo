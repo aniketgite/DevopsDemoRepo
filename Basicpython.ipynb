Google colab can be use to write the code.


High level Language
- easy to understand for humans 
- easy to learn, recall and remember
- easy to deploy
